{
 "cells": [
  {
   "cell_type": "markdown",
   "metadata": {},
   "source": [
    "![Going forward](./images/outro-going_forward.png)"
   ]
  },
  {
   "cell_type": "markdown",
   "metadata": {},
   "source": [
    "# Worth watching: Joel Grus’ *I don’t like notebooks*\n",
    "![I don't like notebooks](./images/outro-joel_grus_doesnt_like_notebooks.png)\n",
    "\n",
    "[Joel Grus,](http://joelgrus.com/) Senior Research Engineer at [Allen Institute for Artificial Intelligence,](https://allenai.org/) goes through the reasons he doesn’t like notebooks:\n",
    "\n",
    "1. Hidden state and out-of-order execution.\n",
    "2. Notebooks are difficult for beginners.\n",
    "3. Notebooks encourage bad habits.\n",
    "4. Notebooks discourage modularity and testing.\n",
    "5. Jupyter’s autocomplete, linting, and way of looking up the help are awkward.\n",
    "6. Notebooks encourage bad processes.\n",
    "7. Notebooks hinder reproducible + extensible science.\n",
    "8. Notebooks make it hard to copy and paste into Slack/Github issues.\n",
    "9. Errors will always halt execution.\n",
    "10. Notebooks make it easy to teach poorly.\n",
    "11. Notebooks make it hard to teach well."
   ]
  },
  {
   "cell_type": "code",
   "execution_count": 1,
   "metadata": {
    "scrolled": true
   },
   "outputs": [
    {
     "data": {
      "text/html": [
       "<iframe width=\"600\" height=\"338\" src=\"https://www.youtube.com/embed/7jiPeIFXb6U\" frameborder=\"0\" allow=\"accelerometer; autoplay; encrypted-media; gyroscope; picture-in-picture\" allowfullscreen></iframe>\n"
      ],
      "text/plain": [
       "<IPython.core.display.HTML object>"
      ]
     },
     "metadata": {},
     "output_type": "display_data"
    }
   ],
   "source": [
    "%%html\n",
    "<iframe width=\"600\" height=\"338\" src=\"https://www.youtube.com/embed/7jiPeIFXb6U\" frameborder=\"0\" allow=\"accelerometer; autoplay; encrypted-media; gyroscope; picture-in-picture\" allowfullscreen></iframe>"
   ]
  },
  {
   "cell_type": "markdown",
   "metadata": {},
   "source": [
    "# “A gallery of interesting Jupyter Notebooks” on Github\n",
    "![Octocat](./images/outro-octocat.png)\n",
    "\n",
    "\n",
    "[A gallery of interesting Jupyter Notebooks](https://github.com/jupyter/jupyter/wiki/A-gallery-of-interesting-Jupyter-Notebooks) is curated list of Jupyter notebook projects that gets updated regularly. It’s how *I* learned!"
   ]
  },
  {
   "cell_type": "markdown",
   "metadata": {},
   "source": [
    "# Books\n",
    "![Data science](./images/data_science.png)\n",
    "\n",
    "![Packt](./images/outro-packt.png)"
   ]
  },
  {
   "cell_type": "markdown",
   "metadata": {},
   "source": [
    "# Contact me!\n",
    "* @AccordionGuy on Twitter\n",
    "* My tech blog: **Global Nerdy**"
   ]
  },
  {
   "cell_type": "code",
   "execution_count": null,
   "metadata": {},
   "outputs": [],
   "source": []
  }
 ],
 "metadata": {
  "kernelspec": {
   "display_name": "Python 3 (ipykernel)",
   "language": "python",
   "name": "python3"
  },
  "language_info": {
   "codemirror_mode": {
    "name": "ipython",
    "version": 3
   },
   "file_extension": ".py",
   "mimetype": "text/x-python",
   "name": "python",
   "nbconvert_exporter": "python",
   "pygments_lexer": "ipython3",
   "version": "3.10.9"
  }
 },
 "nbformat": 4,
 "nbformat_minor": 2
}
