{
 "cells": [
  {
   "cell_type": "markdown",
   "metadata": {},
   "source": [
    "# The easiest way to get Jupyter notebooks on your system\n",
    "![Anaconda](./images/basics-anaconda.png)\n",
    "\n",
    "The easiest way to get Jupyter notebooks on your own system is to install the [**Anaconda**](https://www.anaconda.com/download/) distribution of Python. Not only is it one of the better distributions, but it comes with Jupyter notebooks built in!"
   ]
  },
  {
   "cell_type": "markdown",
   "metadata": {},
   "source": [
    "# Running Jupyter notebooks on your machine once it’s installed\n",
    "Incredibly easy. Just open up a terminal and type\n",
    "\n",
    "`jupyter notebook`\n",
    "\n",
    "on the command line. It’ll open up a local Jupyter notebook server and Jupyter page on your browser."
   ]
  },
  {
   "cell_type": "markdown",
   "metadata": {},
   "source": [
    "# If you don’t want to commit just yet...\n",
    "![Try Jupyter](./images/basics-try_jupyter.png)\n",
    "\n",
    "You can visit the [**Try Jupyter**](https://jupyter.org/try) page and try it online, in the safety of your web browser."
   ]
  },
  {
   "cell_type": "markdown",
   "metadata": {},
   "source": [
    "# You can even look at this presentation online!\n",
    "\n",
    "1. Point your browser at [**colab.research.google.com**](https://colab.research.google.com/).\n",
    "2. If you’re already logged into a Google service like Gmail, you’ll see a dialog box with an orange menu bar. Select **GitHub** from the menu bar and enter the GitHub repo name **AccordionGuy/DevFestFlorida2019**, then jump to step 4.\n",
    "3. If you’re not logged into a Google service, select **File**, the **Open notebook...**. Then follow step 2.\n",
    "4. You’ll be presented with a directory of files. Files with the **.ipynb** extension are Jupyter notebooks. Open them!"
   ]
  },
  {
   "cell_type": "markdown",
   "metadata": {},
   "source": [
    "# Jupyter notebooks are made of cells\n",
    "![Cells](./images/intro-cells.png)\n",
    "\n",
    "Think of them as a single column of cells, each of which can contain one of the following:\n",
    "\n",
    "* Text\n",
    "* Code"
   ]
  },
  {
   "cell_type": "markdown",
   "metadata": {},
   "source": [
    "## This is a text cell\n",
    "Text cells are usually written in **Markdown**, and it’s for textual data, with all the markdown that you’ve come to love and expect from a text markup language.\n",
    "\n",
    "You can also use HTML when you bump up against Markdown’s limitations.\n",
    "\n",
    "Jupyter notebooks are often used for papers with lots of math notation in them, and luckily for us, they also support **LaTeX**. The formula below was written in LaTeX:\n",
    "\n",
    "$$c = \\sqrt{a^2 + b^2}$$\n",
    "\n",
    "You render a text cell by selecting one and pressing either:\n",
    "\n",
    "* **Ctrl-Enter** to simply render the cell, or\n",
    "* **Shift-Enter** to render the cell and move the focus to the next one."
   ]
  },
  {
   "cell_type": "markdown",
   "metadata": {},
   "source": [
    "## Below this is a code cell"
   ]
  },
  {
   "cell_type": "code",
   "execution_count": null,
   "metadata": {},
   "outputs": [],
   "source": [
    "print(\"This is a code cell.\")\n",
    "print(\"It contains code.\")\n",
    "print(\"You execute a code cell by selecting one and pressing either:\")\n",
    "print(\"**Ctrl-Enter** to simply execute code in the cell, or\")\n",
    "print(\"**Shift-Enter** to execute the code in the cell and move the focus to the next one.\")"
   ]
  },
  {
   "cell_type": "markdown",
   "metadata": {},
   "source": [
    "## Executing shell commands\n",
    "Code cells can execute shell commands too — any line starting with `!` is executed as a shell command."
   ]
  },
  {
   "cell_type": "code",
   "execution_count": null,
   "metadata": {},
   "outputs": [],
   "source": [
    "!ls"
   ]
  },
  {
   "cell_type": "markdown",
   "metadata": {},
   "source": [
    "## Magic commands, or “magics”\n",
    "There are “magic” commands that extend Jupyter notebook capabilities — they’re on lines that start with `%`."
   ]
  },
  {
   "cell_type": "code",
   "execution_count": null,
   "metadata": {},
   "outputs": [],
   "source": [
    "import numpy as np\n",
    "from numpy.random import randint\n",
    "\n",
    "# A function to simulate one million dice throws.\n",
    "def one_million_dice():\n",
    "    return randint(low=1, high=7, size=1000000)\n",
    "\n",
    "print(\"Let's try %time first:\")\n",
    "%time throws = one_million_dice()\n",
    "%time mean = np.mean(throws)\n",
    "\n",
    "print(\"\\nLet's do the same with %timeit\")\n",
    "%timeit throws = one_million_dice()\n",
    "%timeit mean = np.mean(throws)"
   ]
  },
  {
   "cell_type": "markdown",
   "metadata": {},
   "source": [
    "# Example: A simple Jupyter notebook\n",
    "![Basic music recommendation](./images/basics-basic_music_recommendation.jpg)\n",
    "\n",
    "Let’s build an incredibly simple music recommendation engine — no data science libraries; just pure Python.\n",
    "\n",
    "Consider a set of users’ ratings of a set of bands on a scale of 1 to 5, where 1 is “hated it”, and 5 is “loved it”. Here’s the data in table form:\n",
    "\n",
    "![Music tastes chart](./images/basics-ratings.jpg)\n",
    "\n",
    "One way to express the chart in Python form is to turn it into a dictionary where:\n",
    "\n",
    "* The users’ names are the keys, and\n",
    "* Their ratings are the values — and those ratings in turn are dictionaries where:\n",
    "     * The band names are the keys, and\n",
    "     * The user’s ratings for the bands are the values.\n",
    "\n",
    "Here’s the code:"
   ]
  },
  {
   "cell_type": "code",
   "execution_count": null,
   "metadata": {},
   "outputs": [],
   "source": [
    "users = {\n",
    "    \"Angelica\": {\n",
    "        \"Blues Traveler\": 3.5,\n",
    "        \"Broken Bells\": 2.0,\n",
    "        \"Norah Jones\": 4.5,\n",
    "        \"Phoenix\": 5.0,\n",
    "        \"Slightly Stoopid\": 1.5,\n",
    "        \"The Strokes\": 2.5,\n",
    "        \"Vampire Weekend\": 2.0\n",
    "    },\n",
    "    \"Bill\": {\n",
    "        \"Blues Traveler\": 2.0,\n",
    "        \"Broken Bells\": 3.5,\n",
    "        \"Deadmau5\": 4.0,\n",
    "        \"Phoenix\": 2.0,\n",
    "        \"Slightly Stoopid\": 3.5,\n",
    "        \"Vampire Weekend\": 3.0\n",
    "    },\n",
    "    \"Chan\": {\n",
    "        \"Blues Traveler\": 5.0,\n",
    "        \"Broken Bells\": 1.0,\n",
    "        \"Deadmau5\": 1.0,\n",
    "        \"Norah Jones\": 3.0,\n",
    "        \"Phoenix\": 5,\n",
    "        \"Slightly Stoopid\": 1.0\n",
    "    },\n",
    "    \"Dan\": {\n",
    "        \"Blues Traveler\": 3.0,\n",
    "        \"Broken Bells\": 4.0,\n",
    "        \"Deadmau5\": 4.5,\n",
    "        \"Phoenix\": 3.0,\n",
    "        \"Slightly Stoopid\": 4.5,\n",
    "        \"The Strokes\": 4.0,\n",
    "        \"Vampire Weekend\": 2.0\n",
    "    },\n",
    "    \"Hailey\": {\n",
    "        \"Broken Bells\": 4.0,\n",
    "        \"Deadmau5\": 1.0,\n",
    "        \"Norah Jones\": 4.0,\n",
    "        \"The Strokes\": 4.0,\n",
    "        \"Vampire Weekend\": 1.0\n",
    "    },\n",
    "    \"Jordyn\": {\n",
    "        \"Broken Bells\": 4.5,\n",
    "        \"Deadmau5\": 4.0,\n",
    "        \"Norah Jones\": 5.0,\n",
    "        \"Phoenix\": 5.0,\n",
    "        \"Slightly Stoopid\": 4.5,\n",
    "        \"The Strokes\": 4.0,\n",
    "        \"Vampire Weekend\": 4.0\n",
    "    },\n",
    "    \"Sam\": {\n",
    "        \"Blues Traveler\": 5.0,\n",
    "        \"Broken Bells\": 2.0,\n",
    "        \"Norah Jones\": 3.0,\n",
    "        \"Phoenix\": 5.0,\n",
    "        \"Slightly Stoopid\": 4.0,\n",
    "        \"The Strokes\": 5.0\n",
    "    },\n",
    "    \"Veronica\": {\n",
    "        \"Blues Traveler\": 3.0,\n",
    "        \"Norah Jones\": 5.0,\n",
    "        \"Phoenix\": 4.0,\n",
    "        \"Slightly Stoopid\": 2.5,\n",
    "        \"The Strokes\": 3.0\n",
    "    },\n",
    "    # GrungeBob isn't in the chart; I’ve added him to be a user\n",
    "    # with nothing in common with any of the other users.\n",
    "    \"GrungeBob\": {\n",
    "        \"Nirvana\": 4.5,\n",
    "        \"Pearl Jam\": 4.0,\n",
    "        \"Soundgarden\": 5.0\n",
    "    },\n",
    "}"
   ]
  },
  {
   "cell_type": "markdown",
   "metadata": {},
   "source": [
    "Many recommendation engines work on these principles:\n",
    "\n",
    "* The people who like a lot of the things that you like are the best people to recommend new things to you.\n",
    "* The more similar two people’s ratings for the same things, the more similar they are.\n",
    "* If you think of people’s ratings for things as points on a graph, the more similar two people are, the smaller the distance between their ratings points.\n",
    "\n",
    "For calculating the distance between points, the simplest, least computationally expensive way to do so is calculating the **Manhattan distance** between those points:\n",
    "\n",
    "![Manhattan distance](./images/basics-manhattan_distance.jpg)\n",
    "\n",
    "Let’s define a function to calculate the Manhattan distance between two users’ ratings:"
   ]
  },
  {
   "cell_type": "code",
   "execution_count": null,
   "metadata": {},
   "outputs": [],
   "source": [
    "def manhattan(rating1, rating2):\n",
    "    \"\"\"Computes the Manhattan distance. Both rating1 and rating2 are dictionaries of the form\n",
    "    {'The Strokes': 3.0, 'Slightly Stoopid': 2.5 ...\"\"\"\n",
    "    distance = 0\n",
    "    for key in rating1:\n",
    "        if key in rating2:\n",
    "            distance += abs(rating1[key] - rating2[key])\n",
    "    return distance"
   ]
  },
  {
   "cell_type": "markdown",
   "metadata": {},
   "source": [
    "Let’s calculate the Manhattan distance between Jordyn and Sam.\n",
    "\n",
    "As a reminder, here are Jordyn’s ratings for bands:\n",
    "\n",
    "* Broken Bells: 4.5\n",
    "* Deadmau5: 4.0\n",
    "* Norah Jones: 5.0\n",
    "* Phoenix: 5.0\n",
    "* Slightly Stoopid: 4.5\n",
    "* The Strokes: 4.0\n",
    "* Vampire Weekend: 4.0\n",
    "\n",
    "And here are Sam’s:\n",
    "\n",
    "* Blues Traveler: 5.0,\n",
    "* Broken Bells: 2.0,\n",
    "* Norah Jones: 3.0,\n",
    "* Phoenix: 5.0,\n",
    "* Slightly Stoopid: 4.0,\n",
    "* The Strokes: 5.0"
   ]
  },
  {
   "cell_type": "code",
   "execution_count": null,
   "metadata": {},
   "outputs": [],
   "source": [
    "print(f\"Manhattan distance between Jordyn and Sam: {manhattan(users['Jordyn'], users['Sam'])}\")"
   ]
  },
  {
   "cell_type": "markdown",
   "metadata": {},
   "source": [
    "How about Chan and Dan?\n",
    "\n",
    "Here are Chan’s known musical tastes:\n",
    "\n",
    "* Blues Traveler: 5.0\n",
    "* Broken Bells: 1.0\n",
    "* Deadmau5: 1.0\n",
    "* Norah Jones: 3.0\n",
    "* Phoenix: 5\n",
    "* Slightly Stoopid: 1.0\n",
    "\n",
    "And here are Dan’s:\n",
    "\n",
    "* Blues Traveler: 3.0\n",
    "* Broken Bells: 4.0\n",
    "* Deadmau5: 4.5\n",
    "* Phoenix: 3.0\n",
    "* Slightly Stoopid: 4.5\n",
    "* The Strokes: 4.0\n",
    "* Vampire Weekend: 2.0"
   ]
  },
  {
   "cell_type": "code",
   "execution_count": null,
   "metadata": {},
   "outputs": [],
   "source": [
    "print(f\"Manhattan distance between Chan and Dan: {manhattan(users['Chan'], users['Dan'])}\")"
   ]
  },
  {
   "cell_type": "markdown",
   "metadata": {},
   "source": [
    "What happens if we compute the Manhattan distance between Dan and himself? "
   ]
  },
  {
   "cell_type": "code",
   "execution_count": null,
   "metadata": {},
   "outputs": [],
   "source": [
    "print(f\"Manhattan distance between Dan and himself: {manhattan(users['Dan'], users['Dan'])}\")"
   ]
  },
  {
   "cell_type": "markdown",
   "metadata": {},
   "source": [
    "That makes sense; two people with identical tastes should have zero taste distance between them.\n",
    "\n",
    "What about the Manhattan distance between Dan and GrungeBob?\n",
    "\n",
    "Remember, GrungeBob is stuck in 1994, and has no ratings in common with Dan."
   ]
  },
  {
   "cell_type": "code",
   "execution_count": null,
   "metadata": {},
   "outputs": [],
   "source": [
    "print(f\"Manhattan distance between GrungeBob and Jordyn: {manhattan(users['GrungeBob'], users['Jordyn'])}\")"
   ]
  },
  {
   "cell_type": "markdown",
   "metadata": {},
   "source": [
    "That does *not* make sense.\n",
    "\n",
    "![Thinking guy](./images/basics_thinking-guy.jpg)\n",
    "\n",
    "That makes sense. Let’s refactor our function:"
   ]
  },
  {
   "cell_type": "code",
   "execution_count": null,
   "metadata": {},
   "outputs": [],
   "source": [
    "def better_manhattan(all_users, user1_name, user2_name):\n",
    "    distance = 0\n",
    "    common_keys_were_found = False\n",
    "    user1_ratings = all_users[user1_name]\n",
    "    user2_ratings = all_users[user2_name]\n",
    "\n",
    "    for key in user1_ratings:\n",
    "        if key in user2_ratings:\n",
    "            distance += abs(user1_ratings[key] - user2_ratings[key])\n",
    "            common_keys_were_found = True\n",
    "\n",
    "    if common_keys_were_found:\n",
    "        return distance\n",
    "    else:\n",
    "        return None"
   ]
  },
  {
   "cell_type": "code",
   "execution_count": null,
   "metadata": {},
   "outputs": [],
   "source": [
    "print(f\"Manhattan distance between Jordyn and Sam: {better_manhattan(users, 'Jordyn', 'Sam')}\")"
   ]
  },
  {
   "cell_type": "code",
   "execution_count": null,
   "metadata": {},
   "outputs": [],
   "source": [
    "print(f\"Manhattan distance between Jordyn and Jordyn: {better_manhattan(users, 'Jordyn', 'Jordyn')}\")"
   ]
  },
  {
   "cell_type": "code",
   "execution_count": null,
   "metadata": {},
   "outputs": [],
   "source": [
    "print(f\"Manhattan distance between Jordyn and GrungeBob: {better_manhattan(users, 'Jordyn', 'GrungeBob')}\")"
   ]
  },
  {
   "cell_type": "code",
   "execution_count": null,
   "metadata": {},
   "outputs": [],
   "source": [
    "for user_name in users:\n",
    "    distance = better_manhattan(users, user_name, 'Hailey')\n",
    "    if distance is None:\n",
    "        print(f\"No bands in common between Hailey and {user_name}.\")\n",
    "    else:\n",
    "        print(f\"Manhattan distance between Hailey and {user_name}: {distance}.\")"
   ]
  },
  {
   "cell_type": "markdown",
   "metadata": {},
   "source": [
    "## Sources\n",
    "* The recommendation engine exercise was taken from [A Programmer's Guide to Data Mining.](http://guidetodatamining.com/) It’s a great (and free) intro to data mining in Python."
   ]
  }
 ],
 "metadata": {
  "kernelspec": {
   "display_name": "Python 3 (ipykernel)",
   "language": "python",
   "name": "python3"
  },
  "language_info": {
   "codemirror_mode": {
    "name": "ipython",
    "version": 3
   },
   "file_extension": ".py",
   "mimetype": "text/x-python",
   "name": "python",
   "nbconvert_exporter": "python",
   "pygments_lexer": "ipython3",
   "version": "3.10.9"
  }
 },
 "nbformat": 4,
 "nbformat_minor": 2
}
