{
 "cells": [
  {
   "cell_type": "markdown",
   "metadata": {},
   "source": [
    "![](./images/set-up-ai-toolkit.png)"
   ]
  },
  {
   "cell_type": "markdown",
   "metadata": {},
   "source": [
    "# A quick intro\n",
    "![Sourcetoad](./images/joey-devilla-okta.jpg)\n",
    "\n",
    "I’m a Senior Developer Advocate at **Okta**."
   ]
  },
  {
   "cell_type": "markdown",
   "metadata": {},
   "source": [
    "# What is a Jupyter notebook?\n",
    "![Code and text](./images/intro-code_and_text.png)\n",
    "\n",
    "* A tool for collaborating and sharing knowledge\n",
    "* For sharing documents that contain embedded code, all within the context of a web page\n",
    "* I like [the way IBM puts it](http://blog.ibmjstart.net/2015/08/22/dynamic-dashboards-from-jupyter-notebooks/): Jupyter notebooks let you build a **“computational narrative that distills data into insights.”**"
   ]
  },
  {
   "cell_type": "markdown",
   "metadata": {},
   "source": [
    "# The ongoing quest to explain complex things\n",
    "\n",
    "## The notebooks of scientists, mathematicians, and madmen\n",
    "![Computational essay](./images/intro-computational_essay.png)\n",
    "\n",
    "Stephen Wolfram calls these things **computational essays**, and [does a pretty good job explaining them in this article.](https://blog.stephenwolfram.com/data/uploads/2017/11/InOutImg43-zoom.png![image.png](attachment:image.png))\n",
    "\n",
    "## Spreadsheets\n",
    "![Pretty spreadsheet](./images/intro-pretty_spreadsheet.png)\n",
    "\n",
    "A mix of text, numerical data, calculations, and graphs — people have been doing something similar in spreadsheets for a while now.\n",
    "\n",
    "## Mathematica notebooks\n",
    "![Mathematica notebook](./images/intro-mathematica_notebook.png)\n",
    "\n",
    "This is the Wolfram answer to the question “How can we bring the computational notebook into the age of computers?”\n",
    "\n",
    "## Jupyter notebooks\n",
    "![Hermione](./images/intro-hermione.png)\n",
    "\n",
    "Jupyter notebooks are based on the same concepts as Mathematica notebooks, except they’re based on open source software."
   ]
  },
  {
   "cell_type": "markdown",
   "metadata": {},
   "source": [
    "![Julia-Python-R](./images/intro-julia_python_r.png)\n",
    "\n",
    "* The name **Jupyter** comes from three programming languages **Ju**lia, **Py**thon, and **R**.\n",
    "* Coding in Julia is supported by a number of **kernels**, which support many languages — not just Julia, Python, and R, but so many others, including C#, Go, Haskell, JavaScript, Java, Kotlin, Scala, Swift, Ruby, and 50+ other languages.\n",
    "* Python seems to be the most popular programming language for Jupyter notebook code, as it’s currently the darling of the data science world, and data science has been described as the [“the sexiest job of the 21st century”](https://hbr.org/2012/10/data-scientist-the-sexiest-job-of-the-21st-century)."
   ]
  },
  {
   "cell_type": "markdown",
   "metadata": {},
   "source": [
    "# Who uses Jupyter notebooks?\n",
    "![Nobel](./images/intro-nobel.jpg)\n",
    "\n",
    "[**Paul Romer**](https://qz.com/1417145/economics-nobel-laureate-paul-romer-is-a-python-programming-convert/), [co-winner of the 2018 Nobel Prize in Economics*](https://qz.com/1416867/the-2018-nobel-prize-in-economics-goes-to-william-nordhaus-and-paul-romer/), for one.\n",
    "\n",
    "[*Yes, I know that the Nobel Prize in Economics isn’t a “real” Nobel.*](https://fivethirtyeight.com/features/the-economics-nobel-isnt-really-a-nobel/)\n",
    "\n",
    "![Netflix](./images/intro-netflix.jpg)\n",
    "\n",
    "Netflix is a heavily data-driven organization, and wow, do they use [Jupyter notebooks](https://medium.com/netflix-techblog/notebook-innovation-591ee3221233).\n",
    "\n",
    "![Google](./images/intro-JupyterGoogle.png)\n",
    "\n",
    "It’s also used by Google...\n",
    "\n",
    "![Microsoft](./images/intro-JupyterMicrosoft.png)\n",
    "\n",
    "...Microsoft...\n",
    "\n",
    "...and a whole lot of other organizations."
   ]
  },
  {
   "cell_type": "code",
   "execution_count": null,
   "metadata": {},
   "outputs": [],
   "source": []
  }
 ],
 "metadata": {
  "kernelspec": {
   "display_name": "Python 3 (ipykernel)",
   "language": "python",
   "name": "python3"
  },
  "language_info": {
   "codemirror_mode": {
    "name": "ipython",
    "version": 3
   },
   "file_extension": ".py",
   "mimetype": "text/x-python",
   "name": "python",
   "nbconvert_exporter": "python",
   "pygments_lexer": "ipython3",
   "version": "3.10.9"
  }
 },
 "nbformat": 4,
 "nbformat_minor": 2
}
